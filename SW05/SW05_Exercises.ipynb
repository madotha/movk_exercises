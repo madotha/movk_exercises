{
 "cells": [
  {
   "cell_type": "code",
   "execution_count": 11,
   "metadata": {},
   "outputs": [],
   "source": [
    "import math"
   ]
  },
  {
   "cell_type": "markdown",
   "metadata": {},
   "source": [
    "# SW05 Exercises\n",
    "## Exercise 01: Shamir's three-pass protocol\n",
    "\n",
    "**Alice and Bob want the implement Shamir’s three-pass protocol using the Vernam cipher, i.e.\n",
    "one-time pad. This is supposed to provide perfect secrecy. Is the following protocol secure? \n",
    "Can You compute the message? Make an example with M = 010110111101,\n",
    "KA = 101101110100, and KB = 001011011011.**"
   ]
  },
  {
   "cell_type": "markdown",
   "metadata": {},
   "source": [
    "<img src=\"SW05_01_g.png\" alt=\"Grafik\" width=\"600\"/>"
   ]
  },
  {
   "cell_type": "markdown",
   "metadata": {},
   "source": [
    "**M** : *010110111101*\n",
    "\n",
    "**K(a)** : *101101110100*\n",
    "\n",
    "**K(b)** : *001011011011*"
   ]
  },
  {
   "cell_type": "markdown",
   "metadata": {},
   "source": [
    "<img src=\"SW05_01_a.png\" alt=\"Wahrheitstabelle Verschlüsselung\" width=\"700\"/>"
   ]
  },
  {
   "cell_type": "markdown",
   "metadata": {},
   "source": [
    "Mit der Wahrheitstabelle lässt sich die Nachricht bis zum Punkt verfolgen, an dem sie mit beiden Schlüsseln verschlüsselt wurde.\n",
    "\n",
    "Die **verschlüsselte Nachricht** lautet nun *110000010010*.\n",
    "\n",
    "Zur Entschlüsselung werden die beiden Schlüssel wieder entfernt, wobei die ursprüngliche Nachricht lesbar wird."
   ]
  },
  {
   "cell_type": "markdown",
   "metadata": {},
   "source": [
    "## Exercise 2: Diffie-Hellman\n",
    "**Alice and Bob agree to use n = 13 and e = 11. Alice chooses her secret number a = 5, whereas Bob chooses b = 7.**\n",
    "\n",
    "**What are the requirements for n and e? Are they fullfilled?**"
   ]
  },
  {
   "cell_type": "markdown",
   "metadata": {},
   "source": [
    "Alle Bedingungen sind erfüllt\n",
    "* n = 13 ist eine (grosse) Primzahl\n",
    "* a, b $< n -2$\n",
    "* a, b $\\in$ $\\mathbb{Z}_{13}^*$\n",
    "* e muss ein Generator von $\\mathbb{Z}_{13}^*$ sein "
   ]
  },
  {
   "cell_type": "code",
   "execution_count": 35,
   "metadata": {},
   "outputs": [
    {
     "name": "stdout",
     "output_type": "stream",
     "text": [
      "e ist Generator:  True\n"
     ]
    }
   ],
   "source": [
    "n = 13\n",
    "e = 11\n",
    "zns = range(1, n)\n",
    "g = [e**i%n for i in zns]\n",
    "print(\"e ist Generator: \", len(set(g)) == len(zns))"
   ]
  },
  {
   "cell_type": "markdown",
   "metadata": {},
   "source": [
    "---\n",
    "Describe the key agreement protocol step by step using the above assumptions about a and b. What is the common\n",
    "secret key?\n",
    "\n",
    "\n",
    "1) Alice schickt A = $e^a$ mod $p = 11^5$ mod $13 = 7$ an Bob\n",
    "\n",
    "2) Bob schickt B = $e^b$ mod p$ = 11^7$ mod $13 = 2$ an Alice\n",
    "\n",
    "3) Alice und Bob berechnen Geheimschlüssel k = $B^a $ mod $ p =  7^7$ mod $13 = A^b$ mod $ 13 =  2^5$ mod $ 13 = e^{a*b}$ mod $13 =  11^{5\\cdot 7}$ mod $13 = 6 $"
   ]
  },
  {
   "cell_type": "markdown",
   "metadata": {},
   "source": [
    "## Exercise 3: Discrete Logarithm Problem\n",
    "Assume Mallory intercepts the message A = 9 from Alice to Bob and B = 3 from Bob to Alice.\n",
    "He also knows n = 13 and g = 11\n",
    "\n",
    "----\n",
    "Mallory müsste a oder b finden: ${A = g^a}$ mod $n = 11^a$ mod $13, B = g^b$ mod $ n $\n",
    "\n",
    "Diese Art der Berechnung ist nur mit Brute-Force möglich: \n",
    "\n",
    "$11^8$ mod $13 = 9$. Also ist a = 8.\n",
    "\n",
    "$11^4$ mod $13 = 3$. Also ist b = 4. \n",
    "\n",
    "K = $3^8$ mod $13 = 4^8$ mod $13 = 9^4$ mod $13 = 9$\n"
   ]
  },
  {
   "cell_type": "markdown",
   "metadata": {},
   "source": [
    "## Exercise 4: Attack on textbook RSA\n",
    "\n",
    "**The public key (n, e) = (2537, 13) was used to encrypt the plaintext M. Eve intercepts the\n",
    "ciphertext C = 2081.**\n",
    "\n",
    "----\n",
    "\n",
    "**Your Task: Show how Eve computes the plaintext M!**\n",
    "\n",
    "1) $c = m^e$ mod $n = 2081 = m^{13}$ mod $2537$ "
   ]
  },
  {
   "cell_type": "code",
   "execution_count": 12,
   "metadata": {},
   "outputs": [
    {
     "name": "stdout",
     "output_type": "stream",
     "text": [
      "Plaintext: 1819\n",
      "Ciphertext: 2081\n"
     ]
    }
   ],
   "source": [
    "n = 2537\n",
    "e = 13\n",
    "C = 2081\n",
    "\n",
    "c = math.floor(math.sqrt(2537))\n",
    "\n",
    "for i in range(c - 1, 0, -2):\n",
    "    if n % i == 0:\n",
    "        p = i\n",
    "        break\n",
    "        \n",
    "q = int(n / p)\n",
    "phi = (p - 1) * (q - 1)\n",
    "\n",
    "def ExtendedGCD(a,b):\n",
    "    # initialization\n",
    "    s1 = a; s2 = b\n",
    "    u1 = 1; u2 = 0\n",
    "    v1 = 0; v2 = 1\n",
    "    while s2 > 0: # loop if not finished\n",
    "        q = s1 // s2\n",
    "        r = s1 % s2\n",
    "        s1 = s2; s2 = r\n",
    "        t = u2; u2 = u1 - q*u2; u1 = t\n",
    "        t = v2; v2 = v1 - q*v2; v1 = t\n",
    "    return u1, v1, s1\n",
    "\n",
    "d, v1, s1 = ExtendedGCD(e, phi)\n",
    "\n",
    "M = pow(C, d, n)\n",
    "print(\"Plaintext:\", M)\n",
    "C = pow(M, e, n)\n",
    "print(\"Ciphertext:\", C)"
   ]
  },
  {
   "cell_type": "markdown",
   "metadata": {},
   "source": [
    "## Exercise 5: Attack on textbook RSA - small exponent\n"
   ]
  },
  {
   "cell_type": "markdown",
   "metadata": {},
   "source": [
    "**Use python in a Jupyter notebook. Use the (extended) Euklidean algorithm to compute the\n",
    "inverses and find or invent a python code, which implements the CRT.**"
   ]
  },
  {
   "cell_type": "code",
   "execution_count": 18,
   "metadata": {},
   "outputs": [],
   "source": [
    "n = [377, 391, 589]\n",
    "c = [330, 34, 419]"
   ]
  },
  {
   "cell_type": "code",
   "execution_count": 17,
   "metadata": {},
   "outputs": [],
   "source": [
    "n = [3, 5, 7]\n",
    "c = [2, 3, 2]"
   ]
  },
  {
   "cell_type": "code",
   "execution_count": 14,
   "metadata": {},
   "outputs": [],
   "source": [
    "import functools\n",
    "\n",
    "def mul_inv(a, b):\n",
    "    return ExtendedGCD(a, b)[0] % b\n",
    "\n",
    "def chinese_remainder(n, a):\n",
    "    s = 0\n",
    "    prod = functools.reduce(lambda a, b: a*b, n)\n",
    " \n",
    "    for n_i, a_i in zip(n, a):\n",
    "        p = prod / n_i\n",
    "        s += a_i * mul_inv(p, n_i) * p\n",
    "    return s % prod\n",
    "\n",
    "## https://rosettacode.org/wiki/Chinese_remainder_theorem"
   ]
  },
  {
   "cell_type": "code",
   "execution_count": 19,
   "metadata": {},
   "outputs": [
    {
     "name": "stdout",
     "output_type": "stream",
     "text": [
      "Message m: 1061208.0\n"
     ]
    }
   ],
   "source": [
    "print(\"Message m:\", chinese_remainder(n, c))"
   ]
  },
  {
   "cell_type": "markdown",
   "metadata": {},
   "source": [
    "## Exercise 6: Attack on textbook RSA — common module *n*\n",
    "\n",
    "**Your Task: Design a example with small numbers which demonstrates, this attack! Assume\n",
    "n = 11 \u0001 13, i.e. p = 11 and q = 13.**"
   ]
  },
  {
   "cell_type": "code",
   "execution_count": 20,
   "metadata": {
    "scrolled": true
   },
   "outputs": [
    {
     "data": {
      "text/plain": [
       "1"
      ]
     },
     "execution_count": 20,
     "metadata": {},
     "output_type": "execute_result"
    }
   ],
   "source": [
    "p = 11\n",
    "q = 13\n",
    "n = p * q\n",
    "\n",
    "# Random values for eA and eB\n",
    "e_A = 5\n",
    "e_B = 11\n",
    "\n",
    "math.gcd(e_A, e_B)"
   ]
  },
  {
   "cell_type": "code",
   "execution_count": 21,
   "metadata": {},
   "outputs": [],
   "source": [
    "# Messages\n",
    "m1 = 58\n",
    "m2 = 58\n",
    "\n",
    "# Ciphers\n",
    "c1 = pow(m1, e_A, n)\n",
    "c2 = pow(m2, e_B, n)"
   ]
  },
  {
   "cell_type": "code",
   "execution_count": 22,
   "metadata": {},
   "outputs": [],
   "source": [
    "def calculate_comm_mod_n(e_A, e_B, c1, c2, n):\n",
    "    x, y, temp = ExtendedGCD(e_A, e_B)\n",
    "    C1, C2 = c1, c2\n",
    "    \n",
    "    if x < 0:\n",
    "        C1 = ExtendedGCD(c1, n)[0]\n",
    "        x = -x\n",
    "    elif y < 0:\n",
    "        C2 = ExtendedGCD(c2, n)[0]\n",
    "        y = -y\n",
    "        \n",
    "    M1 = pow(C1, x)\n",
    "    M2 = pow(C2, y)\n",
    "    \n",
    "    M = M1 * M2 % n\n",
    "    \n",
    "    return M"
   ]
  },
  {
   "cell_type": "code",
   "execution_count": 23,
   "metadata": {},
   "outputs": [
    {
     "name": "stdout",
     "output_type": "stream",
     "text": [
      "Plaintext m1: 58\n",
      "Plaintext m2: 58\n",
      "Ciphertext c1: 67\n",
      "Ciphertext c2: 102\n",
      "Decrypted ciphertext M: 58\n"
     ]
    }
   ],
   "source": [
    "print(\"Plaintext m1:\", m1)\n",
    "print(\"Plaintext m2:\", m2)\n",
    "print(\"Ciphertext c1:\", c1)\n",
    "print(\"Ciphertext c2:\", c2)\n",
    "print(\"Decrypted ciphertext M:\", calculate_comm_mod_n(e_A, e_B, c1, c2, n))"
   ]
  },
  {
   "cell_type": "markdown",
   "metadata": {},
   "source": [
    "## Exercise 7: Elgamal\n",
    "\n",
    "**The prime number p=13 and the generator g=3 was used. Check if 3 is a genarator: otherwise\n",
    "use the next larger number after 3. Bob chooses the secret key skB = j =3 and Alice skA =i=4.**\n",
    "\n",
    "***Your Task: Compute all intermediate results if Alice wants to securely send the message m =\n",
    "12 to Bob.***"
   ]
  },
  {
   "cell_type": "markdown",
   "metadata": {},
   "source": [
    "<img src=\"SW05_07.png\" alt=\"ElGamalEx7\" width=\"1100\"/>"
   ]
  },
  {
   "cell_type": "markdown",
   "metadata": {},
   "source": [
    "## Exercise 8: Elgamal\n",
    "\n",
    "**Alice uses the private key a=1751 and computes the public key (p=2357;a =2;a^a =1185).\n",
    "Now Bob wants to encrypt the message m = 2035. He uses the random k = 1520.**\n",
    "\n",
    "***Your Task: Compute the encrypted message and show how Alice decrypts the message.***"
   ]
  },
  {
   "cell_type": "markdown",
   "metadata": {},
   "source": [
    "<img src=\"SW05_08.png\" alt=\"ElGamalEx8\" width=\"950\"/>"
   ]
  },
  {
   "cell_type": "markdown",
   "metadata": {},
   "source": [
    "## Exercise 7: Elgamal (in Python)"
   ]
  },
  {
   "cell_type": "code",
   "execution_count": 27,
   "metadata": {},
   "outputs": [
    {
     "name": "stdout",
     "output_type": "stream",
     "text": [
      "1\n",
      "11\n",
      "4\n",
      "5\n",
      "3\n",
      "7\n",
      "12\n",
      "2\n",
      "9\n",
      "8\n",
      "10\n",
      "6\n"
     ]
    }
   ],
   "source": [
    "for i in range(0, g + 1):\n",
    "    print(pow(g, i, p))"
   ]
  },
  {
   "cell_type": "code",
   "execution_count": 26,
   "metadata": {},
   "outputs": [],
   "source": [
    "p = 13\n",
    "g = 11\n",
    "\n",
    "\n",
    "a = 4 # Alice's secret key\n",
    "b = 3 # Bob's secret key\n",
    "\n",
    "m = 12"
   ]
  },
  {
   "cell_type": "code",
   "execution_count": 28,
   "metadata": {},
   "outputs": [
    {
     "name": "stdout",
     "output_type": "stream",
     "text": [
      "Bob's public key: 13 11 5\n"
     ]
    }
   ],
   "source": [
    "# Bob calculates part of his public key (p, g, pk_B)\n",
    "pk_B = pow(g, b, p)\n",
    "print(\"Bob's public key:\", p, g, pk_B)"
   ]
  },
  {
   "cell_type": "code",
   "execution_count": 29,
   "metadata": {},
   "outputs": [
    {
     "name": "stdout",
     "output_type": "stream",
     "text": [
      "Temporary key: 5\n",
      "Ciphertext: 937500\n"
     ]
    }
   ],
   "source": [
    "# Alice selects random k (1 ≤ k ≤ p − 2)\n",
    "k = 7\n",
    "# Alice calulates temporary key and ciphertext\n",
    "pk_A = pow(g, k, p)\n",
    "y = m * pow(pk_B, k)\n",
    "print(\"Temporary key:\", pk_B)\n",
    "print(\"Ciphertext:\", y)"
   ]
  },
  {
   "cell_type": "code",
   "execution_count": 30,
   "metadata": {},
   "outputs": [
    {
     "data": {
      "text/plain": [
       "5"
      ]
     },
     "execution_count": 30,
     "metadata": {},
     "output_type": "execute_result"
    }
   ],
   "source": [
    "z = pow(pk_A, p - 1 - b, p) # pk_B\n",
    "M = z * y % p\n",
    "z"
   ]
  },
  {
   "cell_type": "code",
   "execution_count": 31,
   "metadata": {},
   "outputs": [
    {
     "name": "stdout",
     "output_type": "stream",
     "text": [
      "Plaintext x: 12\n",
      "Decrypted ciphertext M: 12\n"
     ]
    }
   ],
   "source": [
    "print(\"Plaintext x:\", m)\n",
    "print(\"Decrypted ciphertext M:\", M)"
   ]
  },
  {
   "cell_type": "markdown",
   "metadata": {},
   "source": [
    "http://wwwmayr.in.tum.de/konferenzen/Jass05/courses/1/presentations/Meier%20Andreas%20The%20ElGamal%20Cryptosystem.pdf"
   ]
  },
  {
   "cell_type": "markdown",
   "metadata": {},
   "source": [
    "## Exercise 8: Elgamal (in Python)"
   ]
  },
  {
   "cell_type": "code",
   "execution_count": 32,
   "metadata": {},
   "outputs": [],
   "source": [
    "p = 2357\n",
    "g = 2\n",
    "a = 1751 # Alice's secret key\n",
    "pk_A = 1185\n",
    "\n",
    "m = 2035\n",
    "k = 1520"
   ]
  },
  {
   "cell_type": "code",
   "execution_count": 33,
   "metadata": {},
   "outputs": [
    {
     "name": "stdout",
     "output_type": "stream",
     "text": [
      "Temporary key: 1185\n",
      "Ciphertext: 22932792403564589667959594096630853365622493513514878135542945887805226172536820259039753922604208754553838123562540011792779155477175662385208782341438288009678191010803316853145067431369966714750828946808477010721897196035639758211717000672704619914068460897222182669183485698464009726021777421316843095400423570986080358681029893312739038144477384687164118287543309070313320609693454520622209835589681719177731518563520077894071759169556090772479755807438140863912358002926558608226396415665473328369859205069493432363276422018404942543677129752024209434479387462945380585508990606803700921240012272029346381905613853643112423033712684876327128234889811597278311634921277749007063632785703223599559084620791806164615009568687873194540068922737387715071169720271361210791114399907081021091270520373325511874334964358427267568908867357030944845038239065123695770231434994710401237759937212844148255974218625327539694380213325345288370037209250132560630970322890430589351754232202344596974457890601610585216032638677950803923096384810167957542979510513114363096071600697532443452232627310806152682014453245519211076927146156622394445071067151512381419275028462362065717221923735210689253622669696251575380220564208183571816903174034500647915312300345414472134990099024186214956355761438819862561066072350898351476334976030119284825788929090748607890331743754405989639637578795879557921740921221483512007733871057810261480721886266146995993856782233005934499652200934915799324306389559646202822588966793477442022081381001251932561241380853992173763307322023005253727498902751578132663357351912131550759501708583713808296796850630982715483449451397854417251466973415561653300959420324902503947340900802655722831732409496246489508115356613850329140609677909373010237543141674063925102626678086916058864869134083245027249465035161842532753184249776331170202919364884955508705855420257574513444575473565282520789491142006469324728159371781143543594999526606936433852099315170263235717754409573811937134015362330581431201364645553490881454481303241586873114410966314960928323860200958319300756747012582808301341433686928610008594152719119340259334934295432227478155676765425536596261653496480779171864205382155049102798825835972202134313679496255501550551947691862790439095128552334321685810573726914547861591141628973136891602776945799391179763337003737526721694775278082993083332151129309539567049428496873881058117951010449940419376191020108029302145422777610074048501569380269871450897997668158547346770355989384736917267431202040276492552835570841687640406204173396021652490307062075408512431978801468627380373554085314207811297441066180878111333126244611110470769716782213413793652487805821651683945915764367754595481562308713625344596440883507673097625855770205718602967601815898022498427781520705583897604330557287721811320308744580722919133367092249124606438009514160771557341673704050338818841453113425602429322711591817635487597783365091319426883200814304840890737943865729438844887982773206895144008695568446692673407516695172375562018878025771084411345031774142182171304491988493307849091216164474594562289065561033063532136615085191691547244090196751241370278302549656249283939424503567278138087963782045864095838581459605292428702464560606543992234501145328965381756365031073950989567912579487195689054089804314449558779058463089879887471207888527740672595168948778294713695214068337056269020706506439980537191041900625811478799503755681483701006661074158705363748286579482204379863691821567178741764212881208403282427241965198705217601376568201924760744542132365164927419744465260216573338388850908073888107144268788691421303820810895334173618431138888082231082996777221042758011363510782570825095864365681379216889112526996378833783628679845931577328902391938483520132671123165251224691193779210830988730479816934887047510116523988185628207733329801258104099233051600139470477383754552053901595554202719924464029703966984693208396739893885113641822534610076580081467927957828352511127895879840383996133377111492898216912810301866246651584306074695290185283225371036678952692444936783006251934538986302560606079320731536047956834694385093805891400608529815179039408671173533602409436988557027225578127443378808116566003046694588431535793951894563251296431261087095776910658206235389040192876215375771397967537415980760181188641123095660854894753828047661264116758842853384349724969422556334605949550852342101179553188580340920708100656044383076814387167014815123822205055184014110203569699838536901816266802069469240473362229746425384352719020374919218338018081960340228866006319356313162789135989727821958777799424246811202214579861191623422200791537761688232421875\n"
     ]
    }
   ],
   "source": [
    "# Bob calculates temp key and ciphertext\n",
    "pk_B = pow(g, k, p)\n",
    "y = m * pow(pk_A, k)\n",
    "print(\"Temporary key:\", pk_A)\n",
    "print(\"Ciphertext:\", y)"
   ]
  },
  {
   "cell_type": "code",
   "execution_count": 34,
   "metadata": {},
   "outputs": [
    {
     "name": "stdout",
     "output_type": "stream",
     "text": [
      "Plaintext x: 2035\n",
      "Decrypted ciphertext M: 2035\n"
     ]
    }
   ],
   "source": [
    "z = pow(pk_B, p - 1 - a, p) # pk_A\n",
    "M = z * y % p\n",
    "print(\"Plaintext x:\", m)\n",
    "print(\"Decrypted ciphertext M:\", M)"
   ]
  }
 ],
 "metadata": {
  "kernelspec": {
   "display_name": "Python 3",
   "language": "python",
   "name": "python3"
  },
  "language_info": {
   "codemirror_mode": {
    "name": "ipython",
    "version": 3
   },
   "file_extension": ".py",
   "mimetype": "text/x-python",
   "name": "python",
   "nbconvert_exporter": "python",
   "pygments_lexer": "ipython3",
   "version": "3.6.4"
  }
 },
 "nbformat": 4,
 "nbformat_minor": 2
}

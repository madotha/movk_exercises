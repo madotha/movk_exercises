{
 "cells": [
  {
   "cell_type": "markdown",
   "metadata": {},
   "source": [
    "## 2 Diffie-Hellman\n",
    "**Alice and Bob agree to use n = 13 and e = 11. Alice chooses her secret number a = 5, whereas Bob chooses b = 7.**\n",
    "\n",
    "**What are the requirements for n and e? Are they fullfilled? **\n",
    "\n"
   ]
  },
  {
   "cell_type": "markdown",
   "metadata": {},
   "source": [
    "Alle Bedingungen sind erfüllt\n",
    "* n = 13 ist eine (grosse) Primzahl\n",
    "* a, b $< n -2$\n",
    "* a, b $\\in$ $\\mathbb{Z}_{13}^*$\n",
    "* e muss ein Generator von $\\mathbb{Z}_{13}^*$ sein "
   ]
  },
  {
   "cell_type": "code",
   "execution_count": 34,
   "metadata": {},
   "outputs": [
    {
     "name": "stdout",
     "output_type": "stream",
     "text": [
      "e ist Generator:  True\n"
     ]
    }
   ],
   "source": [
    "n = 13\n",
    "e = 11\n",
    "zns = range(1, n)\n",
    "g = [e**n%13 for n in zns]\n",
    "print(\"e ist Generator: \", len(set(g)) == len(zns))"
   ]
  },
  {
   "cell_type": "markdown",
   "metadata": {},
   "source": [
    "---\n",
    "Describe the key agree-\n",
    "ment protocol step by step using the above assumptions about a and b. What is the common\n",
    "secret key?\n"
   ]
  },
  {
   "cell_type": "markdown",
   "metadata": {},
   "source": [
    "1) Alice schickt A = $e^a$ mod $p = 11^5$ mod $13 = 7$ an Bob\n",
    "\n",
    "2) Bob schickt B = $e^b$ mod p$ = 11^7$ mod $13 = 2$ an Alice\n",
    "\n",
    "3) Alice und Bob berechnen Geheimschlüssel k = $B^a $ mod $ p =  7^7$ mod $13 = A^b$ mod $ 13 =  2^5$ mod $ 13 = e^{a*b}$ mod $13 =  11^{5\\cdot 7}$ mod $13 = 6 $\n",
    "\n"
   ]
  },
  {
   "cell_type": "markdown",
   "metadata": {},
   "source": [
    "## 3 Discrete Logarithm Problem\n",
    "Assume Mallory intercepts the message A = 9 from Alice to Bob and B = 3 from Bob to Alice.\n",
    "He also knows n = 13 and g = 11\n",
    "\n",
    "----\n",
    "Mallory müsste a oder b finden: ${A = g^a}$ mod $n = 11^a$ mod $13$, B = g^b$ mod $ n $\n",
    "\n",
    "Diese Art der Berechnung ist nur mit Brute-Force möglich: \n",
    "\n",
    "$11^8$ mod $13 = 9$. Also ist a = 8.\n",
    "\n",
    "$11^4$ mod $13 = 3$. Also ist b = 4. \n",
    "\n",
    "K = $3^8$ mod $13 = 4^8$ mod $13 = 9^4$ mod $13 = 9$\n"
   ]
  },
  {
   "cell_type": "markdown",
   "metadata": {},
   "source": [
    "## 4 Attack on textbook RSA\n",
    "\n",
    "The public key (n, e) = (2537, 13) was used to encrypt the plaintext M. Eve intercepts the\n",
    "ciphertext C = 2081.\n",
    "\n",
    "----\n",
    "\n",
    "Your Task: Show how Eve computes the plaintext M!\n",
    "\n",
    "1) $c = m^e$ mod $n = 2081 = m^{13}$ mod $2537$ "
   ]
  },
  {
   "cell_type": "code",
   "execution_count": 25,
   "metadata": {},
   "outputs": [
    {
     "name": "stdout",
     "output_type": "stream",
     "text": [
      "m:  1819\n"
     ]
    }
   ],
   "source": [
    "def find_m(n, e, c):\n",
    "    m=1\n",
    "    c_i=1\n",
    "    while  c_i != 2081:\n",
    "        m+=1\n",
    "        c_i=m**e%n\n",
    "    return m\n",
    "\n",
    "print(\"m: \", find_m(2537, 13, 2081))\n",
    "\n"
   ]
  },
  {
   "cell_type": "code",
   "execution_count": null,
   "metadata": {},
   "outputs": [],
   "source": []
  },
  {
   "cell_type": "markdown",
   "metadata": {},
   "source": [
    "## 5 Attack on textbook RSA - small exponent\n"
   ]
  },
  {
   "cell_type": "code",
   "execution_count": 35,
   "metadata": {},
   "outputs": [
    {
     "name": "stdout",
     "output_type": "stream",
     "text": [
      "371.0\n",
      "374.0\n",
      "404.0\n",
      "525.7353324000089\n"
     ]
    }
   ],
   "source": [
    "def ExtendedGCD(a,b):\n",
    "\t# initialization\n",
    "\ts1 = a; s2 = b\n",
    "\tu1 = 1; u2 = 0\n",
    "\tv1 = 0; v2 = 1\n",
    "\twhile s2 > 0: # loop if not finished\n",
    "\t\tq = s1 // s2\n",
    "\t\tr = s1 % s2\n",
    "\t\ts1 = s2; s2 = r\n",
    "\t\tt = u2; u2 = u1 - q * u2; u1 = t\n",
    "\t\tt = v2; v2 = v1 - q * v2; v1 = t\n",
    "\treturn u1, v2, s1\n",
    "\n",
    "def crt(m1, m2, m3):\n",
    "    r1, mod1 = m1\n",
    "    r2, mod2 = m2\n",
    "    r3, mod3 = m3\n",
    "    m = mod1 * mod2 * mod3\n",
    "    M1 = m/mod1\n",
    "    M2 = m/mod2\n",
    "    M3 = m/mod3\n",
    "    x,y,mi1 = ExtendedGCD(mod1, M1)\n",
    "    x,y,mi2 = ExtendedGCD(mod2, M2)\n",
    "    x,y,mi3 = ExtendedGCD(mod3, M3)\n",
    "    return r1*M1*mi1 + r2*M2*mi2 + r3*M3*mi3\n",
    "\n",
    "\n",
    "m3 = crt((330, 377), (34, 391), (419, 589))\n",
    "print(m3 % 377)\n",
    "print(m3 % 391)\n",
    "print(m3 % 589)\n",
    "print(m3 ** (1. /3))\n"
   ]
  },
  {
   "cell_type": "code",
   "execution_count": null,
   "metadata": {},
   "outputs": [],
   "source": []
  }
 ],
 "metadata": {
  "kernelspec": {
   "display_name": "Python 3",
   "language": "python",
   "name": "python3"
  },
  "language_info": {
   "codemirror_mode": {
    "name": "ipython",
    "version": 3
   },
   "file_extension": ".py",
   "mimetype": "text/x-python",
   "name": "python",
   "nbconvert_exporter": "python",
   "pygments_lexer": "ipython3",
   "version": "3.6.4"
  }
 },
 "nbformat": 4,
 "nbformat_minor": 2
}

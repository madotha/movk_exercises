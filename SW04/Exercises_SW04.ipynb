{
 "cells": [
  {
   "cell_type": "markdown",
   "metadata": {},
   "source": [
    "# Exercises SW04"
   ]
  },
  {
   "cell_type": "code",
   "execution_count": null,
   "metadata": {},
   "outputs": [],
   "source": []
  },
  {
   "cell_type": "markdown",
   "metadata": {},
   "source": [
    "## Exercise 5: Probability for a collision\n",
    "<b>There are 40 people in a room. You bet, that there are at least 2 people with the same birthday. What is\n",
    "the probability, that You win? Use the exact formula as well as the approximation!</b>"
   ]
  },
  {
   "cell_type": "code",
   "execution_count": 13,
   "metadata": {},
   "outputs": [
    {
     "data": {
      "text/plain": [
       "0.891231809817949"
      ]
     },
     "execution_count": 13,
     "metadata": {},
     "output_type": "execute_result"
    }
   ],
   "source": [
    "# Working with the exact formula\n",
    "from sympy import *\n",
    "i = symbols('i',integer=True)\n",
    "p = 1 - product((365-i)/365,(i,1,39))\n",
    "p.evalf()"
   ]
  },
  {
   "cell_type": "markdown",
   "metadata": {},
   "source": [
    "Die Wahrscheinlichkeit, dass 2 Personen denselben Geburtstag haben, beläuft sich auf ca. <b>89.123%</b>"
   ]
  },
  {
   "cell_type": "markdown",
   "metadata": {},
   "source": [
    "## Exercise 6: Probability of a collision \n",
    "<b>Suppose You use a hash function of length 128 bits. How many hash values would You have to compute\n",
    "in order to find a collision with probability at least 90%? where m = 128 and p = 0:9. How much storage would You need, if You need 16 bytes for each hash?</b>"
   ]
  },
  {
   "cell_type": "code",
   "execution_count": 10,
   "metadata": {},
   "outputs": [
    {
     "name": "stdout",
     "output_type": "stream",
     "text": [
      "[3.95860861e+19]\n"
     ]
    }
   ],
   "source": [
    "import numpy as np\n",
    "n = (2 ** ((128+1)/2)) * np.sqrt([np.log((1/(1-0.9)))])\n",
    "print(n)"
   ]
  },
  {
   "cell_type": "markdown",
   "metadata": {},
   "source": [
    "3.95860861e+19 = 3.9586 * 10^19 bits\n",
    "\n",
    "3.9586 * 10^19 bits = 4.94825 * 10^18 bytes\n",
    "\n",
    "4.94825 * 10^18 bytes = <b>4'948'250 terabytes</b>\n",
    "\n",
    "4'948'250 terabytes * 128 = <b>633'376'000 terabytes</b>"
   ]
  },
  {
   "cell_type": "code",
   "execution_count": null,
   "metadata": {},
   "outputs": [],
   "source": []
  }
 ],
 "metadata": {
  "kernelspec": {
   "display_name": "Python 3",
   "language": "python",
   "name": "python3"
  },
  "language_info": {
   "codemirror_mode": {
    "name": "ipython",
    "version": 3
   },
   "file_extension": ".py",
   "mimetype": "text/x-python",
   "name": "python",
   "nbconvert_exporter": "python",
   "pygments_lexer": "ipython3",
   "version": "3.6.4"
  }
 },
 "nbformat": 4,
 "nbformat_minor": 2
}

{
 "cells": [
  {
   "cell_type": "markdown",
   "metadata": {},
   "source": [
    "# 2 3DES\n",
    "\n",
    "<b>What is the effective key size of 3DES and why is it not 168 bits?</b>"
   ]
  },
  {
   "cell_type": "markdown",
   "metadata": {},
   "source": [
    "3DES mit drei unabhängigen Schlüsseln besteht aus drei 56-Bits DES-Schlüsseln, also eigentlich 168 Bits. Die effektive Schlüsselgrösse ist jedoch nur 112 Bits wegen des Meet-In-The-Middle-Attacks. Also \"nur\" doppelt so gross wie bei Single DES, jedoch ist 3DES um den Faktor 3 langsamer als Single DES.\n",
    "\n",
    "Bei DES sind die Kosten die Tabellen zu knacken 2^56. Bei Double DES sind diese nur um einen Faktor höher, also 2^57."
   ]
  },
  {
   "cell_type": "markdown",
   "metadata": {},
   "source": [
    "# 3 Differences between AES and Rijndeal\n",
    "<b>What are the differences between the AES candidate Rijndeal and AES with respect to block size, key\n",
    "size and number of rounds?</b>"
   ]
  },
  {
   "cell_type": "markdown",
   "metadata": {},
   "source": [
    "Bei AES ist die Blockgrösse auf 128 Bits fixiert, Rundenanzahl <i>N</i>wird festglegt, wobei immer <i>N + 1</i> Rundenschlüssel festgelegt werden.\n",
    "\n",
    "Bei Rijndael variiert die Anzahl Runden je nach Schlüssellänge <b>K</b> und Blockgrösse <b>B</b>.\n",
    "\n",
    "* 10 Runden, wenn B = K = 128\n",
    "* 12 Runden, wenn B oder K = 192, aber nicht 256\n",
    "* 14 Runden, wenn B oder K = 256"
   ]
  },
  {
   "cell_type": "markdown",
   "metadata": {},
   "source": [
    "# 4 AES S-Box\n",
    "\n",
    "<b>If we input the byte 11011101 into the AES S-box, what’s the output? Use the table in slides!</b>"
   ]
  },
  {
   "cell_type": "markdown",
   "metadata": {},
   "source": [
    "11011101 = 221 (in dezimal) = DD (in hexadezimal)\n",
    "\n",
    "DD in S-Box von AES: <b>C1</b> ( = 193 dezimal, 11000001 binär)\n"
   ]
  },
  {
   "cell_type": "markdown",
   "metadata": {},
   "source": [
    "# 7 RC4\n",
    "\n",
    "<b>Use python in Jupyter Notebook to programm RC4. Do some research on RC4 and find out, why it\n",
    "should not be used any more!</b>"
   ]
  },
  {
   "cell_type": "code",
   "execution_count": 18,
   "metadata": {},
   "outputs": [],
   "source": [
    "#\n",
    "def KSA(key):\n",
    "    key_length = len(key)\n",
    "    S = range(256)\n",
    "    j = 0\n",
    "    for i in range(256):\n",
    "        j = (j + S[i] + key[i % key_length]) % 256\n",
    "        S[i], S[j] = S[j], S[i] # swap S[i] and S[j]\n",
    "    return S\n",
    "\n",
    "#\n",
    "def PRGA(S):\n",
    "    i = 0\n",
    "    j = 0\n",
    "    while True:\n",
    "        i = (i + 1) % 256\n",
    "        j = (j + S[i]) % 256\n",
    "        S[i], S[j] = S[j], S[i] # swap\n",
    "        yield S[(S[i] + S[j]) % 256]\n",
    "\n",
    "#\n",
    "def RC4(key):\n",
    "    S = KSA(key)\n",
    "    return PRGA(S)"
   ]
  },
  {
   "cell_type": "code",
   "execution_count": null,
   "metadata": {},
   "outputs": [],
   "source": [
    "# please visit https://github.com/bozhu/RC4-Python for more information\n",
    "# and http://blog.cdleary.com/2009/09/learning-python-by-example-rc4/\n",
    "# ciphertext should be BBF316E8D940AF0AD3\n",
    "key = 'Key'\n",
    "plaintext = 'Plaintext'\n",
    "# ciphertext should be 1021BF0420\n",
    "key = 'Wiki'\n",
    "plaintext = 'pedia'\n",
    "\n",
    "def convert_key(s):\n",
    "    return [ord(c) for c in s]\n",
    "\n",
    "key = convert_key(key)\n",
    "keystream = RC4(key)\n",
    "\n",
    "import sys\n",
    "for c in plaintext:\n",
    "    sys.stdout.write(\"%02X\" % (ord(c) ^ next(keystream)))\n",
    "print"
   ]
  },
  {
   "cell_type": "code",
   "execution_count": null,
   "metadata": {},
   "outputs": [],
   "source": []
  }
 ],
 "metadata": {
  "kernelspec": {
   "display_name": "Python 3",
   "language": "python",
   "name": "python3"
  },
  "language_info": {
   "codemirror_mode": {
    "name": "ipython",
    "version": 3
   },
   "file_extension": ".py",
   "mimetype": "text/x-python",
   "name": "python",
   "nbconvert_exporter": "python",
   "pygments_lexer": "ipython3",
   "version": "3.6.4"
  }
 },
 "nbformat": 4,
 "nbformat_minor": 2
}

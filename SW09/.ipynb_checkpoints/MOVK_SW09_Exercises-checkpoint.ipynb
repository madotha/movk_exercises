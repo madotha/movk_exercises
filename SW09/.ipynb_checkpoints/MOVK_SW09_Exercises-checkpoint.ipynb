{
 "cells": [
  {
   "cell_type": "markdown",
   "metadata": {},
   "source": [
    "# SW09 - Certificates\n",
    "\n",
    "## Lernzielkontrolle\n",
    "\n",
    "1. Digitale Signatur und Zertifizierung, um eine Organisation/Person als vertrauenswürdig einzustufen.\n",
    "2. Man vertraut einer Organisation, einer dritten Partei.\n",
    "3. Man vertraut einigen Organisationen nur teilweise, weshalb es mit einem Trustcenter, welchem alle voll vertrauen können, gescheiter ist.\n",
    "4. ...\n",
    "5. ...\n",
    "6. Je nach Aufwand, um Glaubwürdigkeit zu verifizieren, werden Schlüssel klassifiziert."
   ]
  },
  {
   "cell_type": "markdown",
   "metadata": {},
   "source": [
    "## Aufgabe 01 - Zertifikate\n",
    "\n",
    "***Erstellen Sie ein kurzes Protokoll zur Zertifikaterstellung und Zertifikatüberprüfung.***"
   ]
  },
  {
   "cell_type": "markdown",
   "metadata": {},
   "source": [
    "**Zertifikatserstellung**\n",
    "\n",
    "1. Teilnehmer einigen sich zur Verwaltung der Zertifikate auf eine Trusted Third Party.\n",
    "2. Jeder Teilnehmer lässt sich seinen Namen und öffentlichen Schlüssel im Register der Trusted Third Party eintragen und signieren $\\rightarrow$ Eintrag ist **Zertifikat** des Teilnehmers\n",
    "\n",
    "**Zertifikatsüberprüfung**\n",
    "\n",
    "1. Ein Empfänger überprüft beim Erhalten einer Nachricht die Signatur des Zertifikats\n",
    "2. Wenn im Registereintrag der Name des Empfängers enthalten ist, kann er die Nachricht mit seinem privaten Schlüssel entschlüsseln."
   ]
  },
  {
   "cell_type": "markdown",
   "metadata": {},
   "source": [
    "## Aufgabe 02 - Zertifikatshierarchie\n",
    "\n",
    "\n",
    "1. ***Welche Vorteile hat eine Zertifikatshierarchie für eine Firma und für die einzelne Benutzerin?***\n",
    "2. ***Welche Nachteile hat eine Zertifikatshierarchie für eine Firma und für den einzelnen Benutzer?***"
   ]
  },
  {
   "cell_type": "markdown",
   "metadata": {},
   "source": [
    "1. Bei einer Zertifikatshierarchie muss sich ein einzelner Benutzer nicht um die Zertifikatserstellung und Verifizierung kümmern. Gleichzeitig ist die Kommunikation zwischen allen Benutzern verschlüsselt und authentifiziert. Die Firma kann sich also sicher sein, dass die Kommunikation zwischen den Benutzern nicht oder nur schwer nachverfolgt werden kann.\n",
    "\n",
    "\n",
    "2. Nachteil für die Firma ist, dass sie nicht überprüfen kann, was die Benutzer sich untereinander zusenden, die die Kommunikation End-to-End-verschlüsselt ist. Für die Benutzer kann sich dies im Falle eines Problemes als unvorteilhaft erweisen."
   ]
  },
  {
   "cell_type": "markdown",
   "metadata": {},
   "source": [
    "## Aufgabe 03 - Client-Server-Authentifizierung\n",
    "\n",
    "***Studentin Alice will von Zuhause über ein lokales Netz auf einem Rechner der HSLU arbeiten.\n",
    "Welche Probleme können sich dabei ergeben? Erstellen Sie ein kurzes einfaches Protokoll, um\n",
    "eine sichere Authentifizierung zu ermöglichen.***"
   ]
  },
  {
   "cell_type": "markdown",
   "metadata": {},
   "source": [
    "**Probleme:**\n",
    "\n",
    "* HSLU-Server muss Alice authentifizieren\n",
    "* Alice muss sich gegenüber HSLU-Server authentisieren und muss HSLU-Server selber authentifizieren\n",
    "* Kommunikation zwischen Alice und HSLU-Server muss abgesichert werden\n",
    " \n",
    "**Protokoll:**\n",
    "\n",
    "1. Alice sendet ihr Zertifikat an HSLU-Server; HSLU-Server sendet sein Zertifikat an Alice\n",
    "2. Alice und HSLU-Server verifizieren sich gegenseitig ihre Zertifikate beim CA\n",
    "3. Sind beide Zertifikate gültig kann der Key-Exchange erfolgen $\\rightarrow$ Alice sendet symmetrischen Schlüssel an Server, welcher mit dem Public Key des Servers verschlüsselt ist, um die verschlüsselte Kommunikation zu beginnen"
   ]
  },
  {
   "cell_type": "markdown",
   "metadata": {},
   "source": [
    "## Aufgabe 04 - PGP\n",
    "\n",
    "***Beschreiben Sie den Begriff «Key Escrow» (Schlüsselhinterlegung).***"
   ]
  },
  {
   "cell_type": "markdown",
   "metadata": {},
   "source": [
    "**Key Escrow**: Der private Schlüssel wird zusätzlich noch an einer dritten Stelle, z.Bsp. bei einer staatlichen Behörde abgelegt, dass diese ebenfalls Zugriff auf die versendeten Daten haben."
   ]
  },
  {
   "cell_type": "markdown",
   "metadata": {},
   "source": [
    "## Aufgabe 05 - PGP\n",
    "\n",
    "***Warum wird die Kommunikation auf Dark Web häufig mit Hilfe von PGP realisiert?***"
   ]
  },
  {
   "cell_type": "markdown",
   "metadata": {},
   "source": [
    "Durch das Verteilen der Schlüssel wird keine zentrale Infrastruktur benötigt, welche für alle Kommunikationspartner verfügbar wäre."
   ]
  }
 ],
 "metadata": {
  "kernelspec": {
   "display_name": "Python 3",
   "language": "python",
   "name": "python3"
  },
  "language_info": {
   "codemirror_mode": {
    "name": "ipython",
    "version": 3
   },
   "file_extension": ".py",
   "mimetype": "text/x-python",
   "name": "python",
   "nbconvert_exporter": "python",
   "pygments_lexer": "ipython3",
   "version": "3.6.4"
  }
 },
 "nbformat": 4,
 "nbformat_minor": 2
}

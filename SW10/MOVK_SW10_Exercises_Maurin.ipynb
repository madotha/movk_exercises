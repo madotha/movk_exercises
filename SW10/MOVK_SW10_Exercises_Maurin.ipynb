{
 "cells": [
  {
   "cell_type": "markdown",
   "metadata": {},
   "source": [
    "# Aufgaben SW10\n",
    "\n",
    "## Lernzielkontrolle\n",
    "\n",
    "### Fragen\n",
    "\n",
    "1. Warum sind die homomorphen Verschlüsselungen wichtig?\n",
    "2. Sei die Quadratbildung in der Menge der komplexen Zahlen, $f: (C, \\cdot) \\rightarrow (C, \\cdot)$, definiert durch $f(z) := z^2, z \\in C$. Ist die Abbildung $f$ ein Homomorphismus? Begründen Sie Ihre Antwort.\n",
    "3. Wann ist ein Verschlüsselungsverfahren probabilistisch? Geben Sie bitte zwei Beispiele.\n",
    "4. Wie kann die Sicherheit von RSA erhöht werden?\n",
    "\n",
    "### Antworten\n",
    "\n",
    "1. Zusätzliche Sicherheit, vorallem bei Daten in Cloud, dass private Daten auch verschlüsselt sind.\n",
    "2. Ja, multiplikativ homomorph $\\rightarrow$ $f(v \\cdot w) = (v \\cdot w)^2 = f(v) \\cdot f(w)$\n",
    "3. Nicht deterministisch, man kann beim zweiten Mal verschlüsseln nicht wissen was rauskommt.\n",
    "4. Mithilfe von Padding"
   ]
  },
  {
   "cell_type": "markdown",
   "metadata": {},
   "source": [
    "## Aufgabe 1: Homomorphe Verschlüsselung\n",
    "\n",
    "1. *Welches der drei Verschlüsselungsverfahren (RSA, EL-GAMAL, Paillier) ist eher geeignet für die Verwendung in homomorpher Verschlüsselung eingesetzt werden? Begründen bitte Ihre Antwort?*\n",
    "2. *Geben Sie ein Beispiel, in welchem Bereich das Paillier-Verfahren eingesetzt werden könnte? Begründen Sie Ihre Antwort?*"
   ]
  },
  {
   "cell_type": "markdown",
   "metadata": {},
   "source": []
  },
  {
   "cell_type": "markdown",
   "metadata": {},
   "source": [
    "## Aufgabe 2: Homomorphie-Eigenschaft von EL-GAMAL\n",
    "\n",
    "*Berechnen Sie bitte jeden Schritt im unteren Teil des Beispiels (s. unten). Die Berechnung\n",
    "für den oberen Teil finden Sie auf den Folien SW10.*\n",
    "\n",
    "![](ex02_image.png)"
   ]
  },
  {
   "cell_type": "markdown",
   "metadata": {},
   "source": []
  },
  {
   "cell_type": "markdown",
   "metadata": {},
   "source": [
    "## Aufgabe 3: "
   ]
  }
 ],
 "metadata": {
  "kernelspec": {
   "display_name": "Python 3",
   "language": "python",
   "name": "python3"
  },
  "language_info": {
   "codemirror_mode": {
    "name": "ipython",
    "version": 3
   },
   "file_extension": ".py",
   "mimetype": "text/x-python",
   "name": "python",
   "nbconvert_exporter": "python",
   "pygments_lexer": "ipython3",
   "version": "3.6.4"
  }
 },
 "nbformat": 4,
 "nbformat_minor": 2
}

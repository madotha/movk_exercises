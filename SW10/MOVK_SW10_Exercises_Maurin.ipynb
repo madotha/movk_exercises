{
 "cells": [
  {
   "cell_type": "markdown",
   "metadata": {},
   "source": [
    "# Aufgaben SW10\n",
    "\n",
    "## Lernzielkontrolle\n",
    "\n",
    "### Fragen\n",
    "\n",
    "1. Warum sind die homomorphen Verschlüsselungen wichtig?\n",
    "2. Sei die Quadratbildung in der Menge der komplexen Zahlen, $f: (C, \\cdot) \\rightarrow (C, \\cdot)$, definiert durch $f(z) := z^2, z \\in C$. Ist die Abbildung $f$ ein Homomorphismus? Begründen Sie Ihre Antwort.\n",
    "3. Wann ist ein Verschlüsselungsverfahren probabilistisch? Geben Sie bitte zwei Beispiele.\n",
    "4. Wie kann die Sicherheit von RSA erhöht werden?\n",
    "\n",
    "### Antworten\n",
    "\n",
    "1. Zusätzliche Sicherheit, vorallem bei Daten in Cloud, dass private Daten auch verschlüsselt sind.\n",
    "2. Ja, multiplikativ homomorph $\\rightarrow$ $f(v \\cdot w) = (v \\cdot w)^2 = f(v) \\cdot f(w)$\n",
    "3. Nicht deterministisch, man kann beim zweiten Mal verschlüsseln nicht wissen was rauskommt.\n",
    "4. Mithilfe von Padding"
   ]
  },
  {
   "cell_type": "markdown",
   "metadata": {},
   "source": [
    "## Aufgabe 1: Homomorphe Verschlüsselung\n",
    "\n",
    "1. *Welches der drei Verschlüsselungsverfahren (RSA, EL-GAMAL, Paillier) ist eher geeignet für die Verwendung in homomorpher Verschlüsselung eingesetzt werden? Begründen bitte Ihre Antwort?*\n",
    "2. *Geben Sie ein Beispiel, in welchem Bereich das Paillier-Verfahren eingesetzt werden könnte? Begründen Sie Ihre Antwort?*"
   ]
  },
  {
   "cell_type": "markdown",
   "metadata": {},
   "source": [
    "1. In der Abbildung aus dem Unterricht ist bereits ersichtlich, dass sich alle drei Verfahren für den Einsatz in homomorpher Verschlüsselung eignen. Dabei ist wichtig, dass alle Verfahren non-padded (also nicht randomisiert) sind, da sonst die Homomorphie nicht mehr möglich ist. Wird zudem die Pollutiuon/Rauschen zu hoch (also zu grosse Outputs für die Inputs), schlägt schlussendlich die Entschlüsselung fehl. Dieses \"Rauschen\" wird bei additiven Verfahren *addiert*, bei multiplikativen Verfahren wird dieses Rauschen *multipliziert*. Demnach eignen sich additive Verfahren (in diesem Falle Paillier) etwas besser für homomorphe Verschlüsselung.\n",
    "<img src=\"img/übersicht_verfahren.png\" width=450px>\n",
    "\n",
    "\n",
    "2. Eine mögliche Anwendung des Paillier-Verfahren ist bei *electronic cash*. Hier kommt das Self-Blinding zum Zuge, wobei beispielsweise beim Einkauf in einem Onlineshop der Verkäufer die Kreditkartennummer des Käufers (und somit die Identitäg des Käufers) gar nicht erst kennt und dank Paillier-Verschlüsselung den Kauf trotzdem validieren kann. [Quelle](https://en.wikipedia.org/wiki/Paillier_cryptosystem#Applications \"Haha denkste\")\n"
   ]
  },
  {
   "cell_type": "markdown",
   "metadata": {},
   "source": [
    "## Aufgabe 2: Homomorphie-Eigenschaft von EL-GAMAL\n",
    "\n",
    "*Berechnen Sie bitte jeden Schritt im unteren Teil des Beispiels (s. unten). Die Berechnung\n",
    "für den oberen Teil finden Sie auf den Folien SW10.*\n",
    "\n",
    "<img src=\"img/ex02_image.png\" width=450px>"
   ]
  },
  {
   "cell_type": "markdown",
   "metadata": {},
   "source": []
  },
  {
   "cell_type": "markdown",
   "metadata": {},
   "source": [
    "## Aufgabe 3: Paillier-Verfahren\n",
    "\n",
    "Gegeben sind zwei Primzahlen $p$ = 3 und $q$ = 5. Sei $g$ = 16 aus $\\mathbb{Z}_{225}^{*}$ zufällig gewählt.\n",
    "\n",
    "1. Berechnen Sie jeweils den öffentlichen und privaten Schlüssel.\n",
    "2. Verschlüssen Sie den Klartext $m$ = 13.\n",
    "3. Entschlüssen Sie den Ciphertext $c$ = 72.\n",
    "\n",
    "*Hinweis*: Das Ergebnis durch Codierung wird akzeptiert."
   ]
  },
  {
   "cell_type": "markdown",
   "metadata": {},
   "source": [
    "### 1. Schlüsselberechnung\n",
    "\n",
    "<p style=\"text-align: center;\">Public Key:</p>\n",
    "$$ n = p \\cdot q \\rightarrow 3 \\cdot 5 = 15 $$\n",
    "$$ public key = (n,g) = (15,16)$$\n",
    "\n",
    "<p style=\"text-align: center;\">Private Key:</p>\n",
    "$$ \\lambda = kgv(p-1, q-1) \\rightarrow kgv(2,4) = 4 $$\n",
    "$$ private key = \\lambda = 4 $$\n",
    "\n",
    "**Antwort:** Der öffentliche Schlüssel $pk$ ist (15,16) und der private Schlüssel $\\lambda$ ist 4."
   ]
  },
  {
   "cell_type": "markdown",
   "metadata": {},
   "source": [
    "### 2. Verschlüsseln\n",
    "\n",
    "$$ n^{2} = 15^{2} = 225 $$\n",
    "$$ r = 7 (r \\in \\mathbb{Z}^{*}_n) $$\n",
    "$$ Enc(m) = g^{m}r^{n} \\mod n^{2} \\rightarrow Enc(13) = 16^{13} \\cdot 7^{15} \\mod 225$$\n",
    "$$ Enc(13) = 178 $$\n",
    "\n",
    "**Antwort:** Der Ciphertext für $m = 13$ ist 178."
   ]
  },
  {
   "cell_type": "markdown",
   "metadata": {},
   "source": [
    "### 3. Entschlüsselung\n",
    "\n",
    "$$ Decr(c) = L(c^{\\lambda} \\mod n^{2}) \\cdot (L(g^{\\lambda} \\mod n^{2}))^{-1} \\mod n$$\n",
    "$$ L(z) = \\frac{z-1}{n} $$\n",
    "$$ \\mu = (L(g^{\\lambda} \\mod n^{2}))^{-1} \\mod n $$\n",
    "\n",
    "\n",
    "$$ k = L(g^{\\lambda} \\mod n^2) = L(16^4 \\mod 225) = L(61) $$\n",
    "$$ k = \\frac{61 - 1}{15} = 4 $$\n",
    "\n",
    "$$ \\mu = k^{-1} \\mod n = 4^{-1} \\mod 15 = 4 mod 15 $$\n",
    "$$ Decr(c) = m = (L(c^{\\lambda} \\mod n^2)) \\cdot (\\mu \\mod n) $$\n",
    "$$ = (L(72^4 \\mod 225)) \\cdot (4 \\mod 15) = L(81) \\cdot 4$$\n",
    "$$ = \\frac{81-1}{15} \\cdot 4 = 5.3\\bar{3} \\cdot 4 = 5 \\cdot 4$$\n",
    "$$ = 20 $$\n",
    "\n",
    "**Antwort:** Der entschlüsselte Klartext für $c = 72$ ist 20."
   ]
  },
  {
   "cell_type": "code",
   "execution_count": null,
   "metadata": {},
   "outputs": [],
   "source": []
  }
 ],
 "metadata": {
  "kernelspec": {
   "display_name": "Python 3",
   "language": "python",
   "name": "python3"
  },
  "language_info": {
   "codemirror_mode": {
    "name": "ipython",
    "version": 3
   },
   "file_extension": ".py",
   "mimetype": "text/x-python",
   "name": "python",
   "nbconvert_exporter": "python",
   "pygments_lexer": "ipython3",
   "version": "3.6.4"
  }
 },
 "nbformat": 4,
 "nbformat_minor": 2
}

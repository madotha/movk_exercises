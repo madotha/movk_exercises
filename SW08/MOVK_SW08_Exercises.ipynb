{
 "cells": [
  {
   "cell_type": "markdown",
   "metadata": {},
   "source": [
    "# SW08 - Protocols"
   ]
  },
  {
   "cell_type": "code",
   "execution_count": null,
   "metadata": {},
   "outputs": [],
   "source": []
  },
  {
   "cell_type": "markdown",
   "metadata": {},
   "source": [
    "## Exercise 4 - Anonymität\n",
    "\n",
    "***Was ist «traffic analysis»? Welche Art von Anonymität, die Sie gelernt haben, kann eine Lösung\n",
    "dagegen anbieten? Begründen Sie bitte Ihre Antwort.***"
   ]
  },
  {
   "cell_type": "markdown",
   "metadata": {},
   "source": [
    "Bei den drei Arten der Anonymität (Geheimhaltung der am Nachrichtenaustausch beteiligten Instanzen)  handelt es sich um:\n",
    "\n",
    "1. Anonymität des Senders\n",
    "2. Anonymität des Empfängers\n",
    "3. Anonymität der Kommunikationsbeziehung\n",
    "\n",
    "#### Traffic analysis:\n",
    "\n",
    "*Überwachung des Nachrichtenaustauschs zwischen mehreren Entitäten und Analyse der Nachrichten zwischen ihnen (egal ob verschlüsselt und überhaupt entschlüsselbar), um bestimmte Kommunikationspattern erkennen zu können.*\n",
    "\n",
    "Hierbei kann es am vorteilhafsten sein, die Anonymität der **Kommunikationsbeziehung** sicherzustellen. Dies kann mittels MIXe gewährleistet werden. \n",
    "\n",
    "Durch MIXe wird die Kommunikationsbeziehung anonymisiert, indem die MIX gar nicht weiss, wer der Absender ist. Geschieht dieser Weg über mehrere MIXe, kann somit die komplette Kommunikationsbeziehung sowie Absender und Empfänger über die MIXe hinweg geheim gehalten werden."
   ]
  },
  {
   "cell_type": "markdown",
   "metadata": {},
   "source": [
    "<img src=\"mixe.png\" alt=\"MIXe\" width=\"500\"/>"
   ]
  },
  {
   "cell_type": "code",
   "execution_count": null,
   "metadata": {},
   "outputs": [],
   "source": []
  }
 ],
 "metadata": {
  "kernelspec": {
   "display_name": "Python 3",
   "language": "python",
   "name": "python3"
  },
  "language_info": {
   "codemirror_mode": {
    "name": "ipython",
    "version": 3
   },
   "file_extension": ".py",
   "mimetype": "text/x-python",
   "name": "python",
   "nbconvert_exporter": "python",
   "pygments_lexer": "ipython3",
   "version": "3.6.4"
  }
 },
 "nbformat": 4,
 "nbformat_minor": 2
}

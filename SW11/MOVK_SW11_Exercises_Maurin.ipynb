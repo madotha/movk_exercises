{
 "cells": [
  {
   "cell_type": "markdown",
   "metadata": {},
   "source": [
    "# Aufgaben Serie 11 - eVoting\n",
    "\n",
    "## Lernzielkontrolle\n",
    "\n",
    "1. Nennen Sie 2 Gründe für das Projekt \"eVoting\" in der Schweiz?\n",
    "2. Warum ist die Verwendung von blinden Signaturen in einem Wahlprotokoll wichtig?\n",
    "3. Warum ist die Zahl $x$ (gewählt vom stimmberechtigten Bürger) von bestimmter Struktur für eVoting mit asymmetrischem Verfahren-RSA?\n",
    "4. Ist ein eVoting-System basiert auf Paillier-Verfahren skalierbar? Warum?"
   ]
  },
  {
   "cell_type": "markdown",
   "metadata": {},
   "source": [
    "### Antworten\n",
    "\n",
    "1. Auslandsschweizer können einfacher abstimmen, mehr Leute dazu überreden, überhaupt abzustimmen\n",
    "2. Vertraulichkeit und Geheimhaltung der Abstimmungsergebnisse gewährleisten\n",
    "3. Damit wir sicher sind, dass die öffentlichen Schlüssel, welche der Wahlbehörde zugesendet werden, garantiert ein Stimmzettel sind. Die öffentlichen Schlüssel müssen also diese spezielle Struktur vorweisen, damit sie eindeutig als Wahlzettel identifiziert sind.\n",
    "4. Begrenzt oder nicht skalierbar, da Ergebnisse nur in binär angegeben werden können."
   ]
  },
  {
   "cell_type": "markdown",
   "metadata": {},
   "source": [
    "## Aufgabe 1 - Digitale Demokratie\n",
    "\n"
   ]
  },
  {
   "cell_type": "markdown",
   "metadata": {},
   "source": [
    "Lesen Sie diesen Aufgaben zugehörige Dokumente und beantworten Sie die folgenden Fragen:\n",
    "\n",
    "1. Trägt das eVoting zur Demokratie bei? Begründen Sie Ihre Antwort.\n",
    "2. Vergleichen Sie das eVoting-Projekt in Estland und in der Schweiz."
   ]
  },
  {
   "cell_type": "markdown",
   "metadata": {},
   "source": [
    "**Antworten:**\n",
    "\n",
    "1. \n",
    "2. "
   ]
  },
  {
   "cell_type": "markdown",
   "metadata": {},
   "source": [
    "## Aufgabe 2 - Wahlprotokoll mit symmetrischer Verschlüsselung\n",
    "\n",
    "Wir betrachten zwei Wählerinnen Alice und Eve. Am Ende des symmetrischen eVoting Protokolls mit\n",
    "blinder Signatur (bitte s. in der Vorlesungsfolien) möchte Eve ermitteln, wie Alice gewählt hat. Kann\n",
    "Sie es? Begründen Sie Ihre Antwort."
   ]
  },
  {
   "cell_type": "markdown",
   "metadata": {},
   "source": []
  },
  {
   "cell_type": "markdown",
   "metadata": {},
   "source": [
    "## Aufgabe 3 - additives homomorphes Wahlprotokoll\n",
    "\n",
    "Nehmen Sie die Pailler-Verschlüsselung von der Aufgabe 3 (SW10) und berechnen Sie das\n",
    "Wahlergebnis für die folgenden Daten:\n",
    "\n",
    "<img src=\"img/daten.png\" width=250px>"
   ]
  },
  {
   "cell_type": "markdown",
   "metadata": {},
   "source": []
  }
 ],
 "metadata": {
  "kernelspec": {
   "display_name": "Python 3",
   "language": "python",
   "name": "python3"
  },
  "language_info": {
   "codemirror_mode": {
    "name": "ipython",
    "version": 3
   },
   "file_extension": ".py",
   "mimetype": "text/x-python",
   "name": "python",
   "nbconvert_exporter": "python",
   "pygments_lexer": "ipython3",
   "version": "3.6.4"
  }
 },
 "nbformat": 4,
 "nbformat_minor": 2
}

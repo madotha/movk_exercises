{
 "cells": [
  {
   "cell_type": "markdown",
   "metadata": {},
   "source": [
    "# Aufgaben Serie 11 - eVoting\n",
    "\n",
    "## Lernzielkontrolle\n",
    "\n",
    "1. Nennen Sie 2 Gründe für das Projekt \"eVoting\" in der Schweiz?\n",
    "2. Warum ist die Verwendung von blinden Signaturen in einem Wahlprotokoll wichtig?\n",
    "3. Warum ist die Zahl $x$ (gewählt vom stimmberechtigten Bürger) von bestimmter Struktur für eVoting mit asymmetrischem Verfahren-RSA?\n",
    "4. Ist ein eVoting-System basiert auf Paillier-Verfahren skalierbar? Warum?"
   ]
  },
  {
   "cell_type": "markdown",
   "metadata": {},
   "source": [
    "### Antworten\n",
    "\n",
    "1. Auslandsschweizer können einfacher abstimmen, mehr Leute dazu überreden, überhaupt abzustimmen\n",
    "2. Vertraulichkeit und Geheimhaltung der Abstimmungsergebnisse gewährleisten\n",
    "3. Damit wir sicher sind, dass die öffentlichen Schlüssel, welche der Wahlbehörde zugesendet werden, garantiert ein Stimmzettel sind. Die öffentlichen Schlüssel müssen also diese spezielle Struktur vorweisen, damit sie eindeutig als Wahlzettel identifiziert sind.\n",
    "4. Begrenzt oder nicht skalierbar, da Ergebnisse nur in binär angegeben werden können."
   ]
  },
  {
   "cell_type": "markdown",
   "metadata": {},
   "source": [
    "## Aufgabe 1 - Digitale Demokratie\n",
    "\n"
   ]
  },
  {
   "cell_type": "markdown",
   "metadata": {},
   "source": [
    "Lesen Sie die der Aufgabe zugehörigen Dokumente und beantworten Sie die folgenden Fragen:\n",
    "\n",
    "1. ***Trägt das eVoting zur Demokratie bei? Begründen Sie Ihre Antwort.***\n",
    "2. ***Vergleichen Sie das eVoting-Projekt in Estland und in der Schweiz.***"
   ]
  },
  {
   "cell_type": "markdown",
   "metadata": {},
   "source": [
    "**Antworten:**\n",
    "\n",
    "1. Bei eVoting hofft man vorallem auf eine höhere Wahlbeteiligung, dadurch auf eine Steigerung der Systemlegimitation. Je nach Staat ist der Anstieg der Wahlbeteiligten bisher jedoch nicht merklich gross. Man will in Zukunft auch die jüngere Bevölkerung dazu animieren, öfter abzustimmen. Durch längere Erfahrungen gelangte man grösstenteils jedoch bereits zur Ansicht \"Wer wählen will, der geht auch wählen, sei es nun offline oder online\". Der Vorteil, den Wahl- oder Abstimmungsprozess mittels dem Internet zu vereinfachen, ist klar ersichtlich, jedoch ist beispielsweise in der Schweiz der landesweite Zweifel an der Sicherheit der eVoting-Systeme zu gross, als dass man dies komplett in staatliche Abstimmungen und Wahlen einführen könnte. Ob sich die Vorteile des eVoting für die Demokratie gegen die Nachteile aufwiegen können, kann bisher nicht definitiv gesagt werden. Das Risiko der Manipulation ist bisweilen noch zu hoch, um daher eine definitive Aussage machen zu können.\n",
    "\n",
    "\n",
    "2. In der **Schweiz** wird von den Betreibern ein Schlüsselpaar aus öffentlichem und privatem Schlüssel erzeugt. Alle öffentlichen Schlüssel werden kombiniert und allein für eine Gruppe von Spezialisten der Wahlkommission und ausgewählte Dritte zugänglich gemacht. Die Stimmberechtigten erhalten Zugangs- und Prüfcodes per Post, loggen sich mit dem Zugangscode ein und geben ihren Stimmzettel ab. Zusammen mit dem kombinierten Schlüssel wird der Stimmzettel E2E-verschlüsselt und abgesendet. Im System wird daraus ein Prüfcode generiert, welcher mit dem des Stimmberechtigten verglichen wird. Stimmen werden erst in der Auszählphase verschlüsselt, zuvor werden sie durch \"kryptographisches Mischen\" voneinander getrennt $\\rightarrow$ Stimmgeheimnis\n",
    "In **Estland** wiederum wird zur Identifizierung der Wahlberechtigten der Personalausweis verwendet, welcher mit einer digitalen Signatur ausgestattet ist. Der Chip darauf ermöglicht es, sich mit einem speziellen Kartenlesegerät einzuloggen und die Identifizierung mit Eingabe eines PINs abzuschliessen. Ein zweiter Code dient als digitale Unterschrift zur Bestätigung der Stimmabgabe, danach ist die Stimme eingegeben. Es ist aber möglich, seine Stimme im Nachhinein noch abzuändern oder via Stimmzettel abzustimmen (wobei letzteres die ultimative Gültigkeit hat).\n",
    "Die Lösung von Estland hat sich nun bereits seit 2007 etabliert, wohingegen das Schweizer Projekt sich erst noch weiterhin beweisen muss. Ob dies mit der bisherigen moralischen Einstellung gegenüber dem eVoting in der Schweiz überhaupt behaupten kann, bleibt in den nächsten Jahren noch zu bezweifeln. "
   ]
  },
  {
   "cell_type": "markdown",
   "metadata": {},
   "source": [
    "## Aufgabe 2 - Wahlprotokoll mit symmetrischer Verschlüsselung\n",
    "\n",
    "Wir betrachten zwei Wählerinnen Alice und Eve. Am Ende des symmetrischen eVoting Protokolls mit\n",
    "blinder Signatur (bitte s. in der Vorlesungsfolien) möchte Eve ermitteln, wie Alice gewählt hat. Kann\n",
    "Sie es? Begründen Sie Ihre Antwort."
   ]
  },
  {
   "cell_type": "markdown",
   "metadata": {},
   "source": [
    "**Antwort**:\n",
    "\n",
    "Nein, Eve kann nicht ermitteln, was Alice gewählt hat. \n",
    "Das wäre nur möglich, wenn Eve im Zählsystem oder als Administrator fungieren würde. So hätte sie die Möglichkeit, die verschlüsselte Stimme von Alice zu rekonstruieren oder aufgrund des von Alice ans Zählsystem übergebenen Schlüssels K die zugehörige Stimme ausfindig zu machen.\n",
    "Aber da Eve ebenfalls Wählerin ist und sie lediglich die am Ende vom Zählsystem veröffentlichte Liste mit den verschlüsselten Stimmen (samt Schlüssel) sehen kann, hat sie keine Möglichkeit, eine der Stimmen genau Alice zuzuordnen, da sie nicht Alices Schlüssel K kennt. \n",
    "\n"
   ]
  },
  {
   "cell_type": "markdown",
   "metadata": {},
   "source": [
    "## Aufgabe 3 - additives homomorphes Wahlprotokoll\n",
    "\n",
    "Nehmen Sie die Pailler-Verschlüsselung von der Aufgabe 3 (SW10) und berechnen Sie das\n",
    "Wahlergebnis für die folgenden Daten:\n",
    "\n"
   ]
  },
  {
   "cell_type": "markdown",
   "metadata": {},
   "source": [
    "Achtung: In der dritten Zeile der Tabelle in der Aufgabenstellung gibt es einen Fehler (von Frau Pooyan bestätigt): r$_3$ ist **4**, nicht 5. \n",
    "\n",
    "|Wähler|Gewähltes|r$_i$| \n",
    "|-----|-----|-----|\n",
    "|V$_1$|10|2|\n",
    "|V$_2$|1|8|\n",
    "|V$_3$|1|**4**|\n",
    "|V$_4$|1|2|"
   ]
  },
  {
   "cell_type": "markdown",
   "metadata": {},
   "source": [
    "**Antwort:**\n",
    "\n",
    "\n"
   ]
  },
  {
   "cell_type": "markdown",
   "metadata": {},
   "source": []
  },
  {
   "cell_type": "markdown",
   "metadata": {},
   "source": [
    "Es gilt:\n",
    "\n",
    "p = 3 , q = 5 \n",
    "\n",
    "n = 15\n",
    "\n",
    "n$^2$ = 225\n",
    "\n",
    "g = 16\n",
    "\n",
    "$\\lambda$ = pk =  kgV(2,4) = 4 \n",
    "\n",
    "pk = (15, 16)\n",
    "\n",
    "$\\mu$\n",
    "= L(16$^4$ mod 225) = L(61)$^{-1}$ mod 15\n",
    "\n",
    "= 4$^{-1}$ mod 15\n",
    "\n",
    "= 4 \n",
    "\n",
    "------\n",
    "Berechnung\n",
    "\n",
    "$c_1 = $Enc$(10) = 16^{10} \\times  2^{15} \\mod 225 = 218$\n",
    "\n",
    "$c_2 = $Enc$(1) = 16^1 \\times 8^{15} \\mod 225 = 137$\n",
    "\n",
    "$c_3 = $Enc$(1) = 16^1 \\times 4{^15} \\mod 225 = 34$\n",
    "\n",
    "$c_4 = $Enc$(10) = 16^1 \\times 2^{15} \\mod 225 = 38$\n",
    "\n",
    "$c = 218 \\times 137 \\times 34 \\times 38 = 47 \\mod 225$\n",
    "\n",
    "Decr$(47) = ( L(47^4 \\mod 225) \\times \\mu )\\,  mod \\, 15$\n",
    "\n",
    "$= ( L(106) \\times \\mu ) \\mod 15$ \n",
    "\n",
    "$=  (\\, (\\,(\\,106 - 1)  /  15\\,) \\times \\mu )\\mod 15$\n",
    "\n",
    "$= 7 \\times 4 \\mod 15 $\n",
    "\n",
    "$= 13$\n",
    "\n",
    "$= 10 + 1 + 1 + 1 $\n",
    "\n",
    "Entspricht: 1 x Ja, 3 x Nein.  \n",
    "\n",
    "\n",
    " "
   ]
  },
  {
   "cell_type": "code",
   "execution_count": null,
   "metadata": {},
   "outputs": [],
   "source": []
  }
 ],
 "metadata": {
  "kernelspec": {
   "display_name": "Python 3",
   "language": "python",
   "name": "python3"
  },
  "language_info": {
   "codemirror_mode": {
    "name": "ipython",
    "version": 3
   },
   "file_extension": ".py",
   "mimetype": "text/x-python",
   "name": "python",
   "nbconvert_exporter": "python",
   "pygments_lexer": "ipython3",
   "version": "3.7.1"
  }
 },
 "nbformat": 4,
 "nbformat_minor": 2
}

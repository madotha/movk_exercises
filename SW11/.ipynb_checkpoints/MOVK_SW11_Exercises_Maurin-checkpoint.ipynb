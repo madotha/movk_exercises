{
 "cells": [
  {
   "cell_type": "markdown",
   "metadata": {},
   "source": [
    "# Aufgaben Serie 11 - eVoting\n",
    "\n",
    "## Lernzielkontrolle\n",
    "\n",
    "1. Nennen Sie 2 Gründe für das Projekt \"eVoting\" in der Schweiz?\n",
    "2. Warum ist die Verwendung von blinden Signaturen in einem Wahlprotokoll wichtig?\n",
    "3. Warum ist die Zahl $x$ (gewählt vom stimmberechtigten Bürger) von bestimmter Struktur für eVoting mit asymmetrischem Verfahren-RSA?\n",
    "4. Ist ein eVoting-System basiert auf Paillier-Verfahren skalierbar? Warum?"
   ]
  },
  {
   "cell_type": "markdown",
   "metadata": {},
   "source": [
    "### Antworten\n",
    "\n",
    "1. Auslandsschweizer können einfacher abstimmen, mehr Leute dazu überreden, überhaupt abzustimmen\n",
    "2. Vertraulichkeit und Geheimhaltung der Abstimmungsergebnisse gewährleisten\n",
    "3. Damit wir sicher sind, dass die öffentlichen Schlüssel, welche der Wahlbehörde zugesendet werden, garantiert ein Stimmzettel sind. Die öffentlichen Schlüssel müssen also diese spezielle Struktur vorweisen, damit sie eindeutig als Wahlzettel identifiziert sind.\n",
    "4. Begrenzt oder nicht skalierbar, da Ergebnisse nur in binär angegeben werden können."
   ]
  },
  {
   "cell_type": "markdown",
   "metadata": {},
   "source": [
    "## Aufgabe 1 - Digitale Demokratie\n",
    "\n"
   ]
  },
  {
   "cell_type": "markdown",
   "metadata": {},
   "source": [
    "Lesen Sie die der Aufgabe zugehörigen Dokumente und beantworten Sie die folgenden Fragen:\n",
    "\n",
    "1. ***Trägt das eVoting zur Demokratie bei? Begründen Sie Ihre Antwort.***\n",
    "2. ***Vergleichen Sie das eVoting-Projekt in Estland und in der Schweiz.***"
   ]
  },
  {
   "cell_type": "markdown",
   "metadata": {},
   "source": [
    "**Antworten:**\n",
    "\n",
    "1. Bei eVoting hofft man vorallem auf eine höhere Wahlbeteiligung, dadurch auf eine Steigerung der Systemlegimitation. Je nach Staat ist der Anstieg der Wahlbeteiligten bisher jedoch nicht merklich gross. Man will in Zukunft auch die jüngere Bevölkerung dazu animieren, öfter abzustimmen. Durch längere Erfahrungen gelangte man grösstenteils jedoch bereits zur Ansicht \"Wer wählen will, der geht auch wählen, sei es nun offline oder online\". Der Vorteil, den Wahl- oder Abstimmungsprozess mittels dem Internet zu vereinfachen, ist klar ersichtlich, jedoch ist beispielsweise in der Schweiz der landesweite Zweifel an der Sicherheit der eVoting-Systeme zu gross, dass man dies komplett in staatliche Abstimmungen und Wahlen einführen könnte. Ob sich die Vorteile des eVoting für die Demokratie gegen die Nachteile aufwiegen können, kann bisher nicht definitiv gesagt werden. Das Risiko der Manipulation ist bisweilen noch zu hoch, um daher eine definitive Aussage machen zu können.\n",
    "\n",
    "\n",
    "2. In der **Schweiz** wird von den Betreibern ein Schlüsselpaar aus öffentlichem und privatem Schlüssel erzeugt. Alle öffentlichen Schlüssel werden kombiniert und allein für eine Gruppe von Spezialisten der Wahlkommission und ausgewählte Dritte zugänglich gemacht. Die Stimmberechtigten erhalten Zugangs- und Prüfcodes per Post, loggen sich mit dem Zugangscode ein und geben ihren Stimmzettel ab. Zusammen mit dem kombinierten Schlüssel wird der Stimmzettel E2E-verschlüsselt und abgesendet. Im System wird daraus ein Prüfcode generiert, welcher mit dem des Stimmberechtigten verglichen wird. Stimmen werden erst in der Auszählphase verschlüsselt, zuvor werden sie durch \"kryptographisches Mischen\" voneinander getrennt $\\rightarrow$ Stimmgeheimnis\n",
    "In **Estland** wiederum wird zur Identifizierung der Wahlberechtigten der Personalausweis verwendet, welcher mit einer digitalen Signatur ausgestattet ist. Der Chip darauf ermöglicht es, sich mit einem speziellen Kartenlesegerät einzuloggen und die Identifizierung mit Eingabe eines PINs abzuschliessen. Ein zweiter Code dient als digitale Unterschrift zur Bestätigung der Stimmabgabe, danach ist die Stimme eingegeben. Es ist aber möglich, seine Stimme im Nachhinein noch abzuändern oder via Stimmzettel abzustimmen (wobei letzteres die ultimative Gültigkeit hat).\n",
    "Die Lösung von Estland hat sich nun bereits seit 2007 etabliert, wohingegen das Schweizer Projekt sich erst noch weiterhin beweisen muss. Ob dies mit der bisherigen moralischen Einstellung gegenüber dem eVoting in der Schweiz überhaupt behaupten kann, bleibt in den nächsten Jahren noch zu bezweifeln. "
   ]
  },
  {
   "cell_type": "markdown",
   "metadata": {},
   "source": [
    "## Aufgabe 2 - Wahlprotokoll mit symmetrischer Verschlüsselung\n",
    "\n",
    "Wir betrachten zwei Wählerinnen Alice und Eve. Am Ende des symmetrischen eVoting Protokolls mit\n",
    "blinder Signatur (bitte s. in der Vorlesungsfolien) möchte Eve ermitteln, wie Alice gewählt hat. Kann\n",
    "Sie es? Begründen Sie Ihre Antwort."
   ]
  },
  {
   "cell_type": "markdown",
   "metadata": {},
   "source": [
    "**Antwort:**\n",
    "\n"
   ]
  },
  {
   "cell_type": "markdown",
   "metadata": {},
   "source": [
    "## Aufgabe 3 - additives homomorphes Wahlprotokoll\n",
    "\n",
    "Nehmen Sie die Pailler-Verschlüsselung von der Aufgabe 3 (SW10) und berechnen Sie das\n",
    "Wahlergebnis für die folgenden Daten:\n",
    "\n",
    "<img src=\"img/daten.png\" width=250px>"
   ]
  },
  {
   "cell_type": "markdown",
   "metadata": {},
   "source": [
    "**Antwort:**\n",
    "\n",
    "\n"
   ]
  },
  {
   "cell_type": "code",
   "execution_count": null,
   "metadata": {},
   "outputs": [],
   "source": []
  }
 ],
 "metadata": {
  "kernelspec": {
   "display_name": "Python 3",
   "language": "python",
   "name": "python3"
  },
  "language_info": {
   "codemirror_mode": {
    "name": "ipython",
    "version": 3
   },
   "file_extension": ".py",
   "mimetype": "text/x-python",
   "name": "python",
   "nbconvert_exporter": "python",
   "pygments_lexer": "ipython3",
   "version": "3.6.4"
  }
 },
 "nbformat": 4,
 "nbformat_minor": 2
}

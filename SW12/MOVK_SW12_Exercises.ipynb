{
 "cells": [
  {
   "cell_type": "markdown",
   "metadata": {},
   "source": [
    "# SW12 - Aufgaben\n",
    "\n",
    "## Aufgabe 1 - Elektronisches Bargeld\n",
    "\n",
    "1. Ein Betrüger möchte eine Bank, die Protokoll Nr. 4 benutzt, dazu bringen, blind eine 100-CHF-Münze zu signieren, seinem Konto aber nur einen Schweizer Franken zu belasten. Dazu erzeugt er 99 Münzen vom Wert CHF 1 und eine 100-CHF-Münze. Wie gross ist die Wahrscheinlichkeit dafür, dass die Bank blind die 100-CHF-Münze signiert?\n",
    "2. Das Protokoll von E-Cash entwickelt von der Firma Digicash sieht eine zufällig gewählte Seriennummer $S$ für jede eMünze vor. Sollte $S$ zufällig gewählt werden oder sollte $S$ wie die Zahl $x$ im Wahlzettel für eVoting (Vorlesung SW11) von einer bestimmten Struktur sein? Begründen Sie Ihre Antwort?"
   ]
  },
  {
   "cell_type": "markdown",
   "metadata": {},
   "source": [
    "### Antworten\n",
    "\n",
    "1. \n",
    "\n",
    "2. "
   ]
  },
  {
   "cell_type": "markdown",
   "metadata": {},
   "source": [
    "## Aufgabe 2 - Secret Splitting\n",
    "\n",
    "## Teilaufgabe 1 \n",
    "\n",
    "Sei $M$ ein Geheimnis. Mit drei Zufallszahlen $R_1, R_2, R_3$ werden folgende drei Geheimnisse erzeugt:\n",
    "\n",
    "$$ M_1 = (R_1 \\oplus M, R_2, R_3 $$\n",
    "$$ M_2 = (R_2 \\oplus M, R_3, R_1 $$\n",
    "$$ M_3 = (R_3 \\oplus M, R_1, R_2 $$\n",
    "\n",
    "Jedes Geheimnis besteht also aus drei Teilen, die keine Information über $M$ enthalten. $M$ kann folgendermassen rekonstruiert werden:\n",
    "\n",
    "**aus $M_1, M_2$:** $$ M_{11} \\oplus M_{23} = R_1 \\oplus M \\oplus R_1 = M, $$\n",
    "$$ M_{21} \\oplus M_{12} = R_2 \\oplus M \\oplus R_2 = M $$\n",
    "\n",
    "Berechnen Sie nun $M$ aus $M_1, M_3$ und $M_2, M_3$.\n",
    "\n",
    "## Teilaufgabe 2\n",
    "\n",
    "Entwickeln Sie Schrittweise einen Algorithmus für das (2,n)-Schwellenproblem.\n",
    "\n",
    "## Teilaufgabe 3\n",
    "\n",
    "Sei Alices Identitätsinformation $UID = 1000$. Ist die folgende Gleichung korrekt?\n",
    "\n",
    "$$ 1000 = 9008 \\oplus 8408 $$\n",
    "\n",
    "## Teilaufgabe 4\n",
    "\n",
    "Implementieren Sie ein Python Programm, das die zwei weitere Aufspaltung von 1000 liefert, so dass die Verknüpfung der Teile mit XOR wieder 1000 ergeben."
   ]
  },
  {
   "cell_type": "markdown",
   "metadata": {},
   "source": [
    "### Antwort Teilaufgabe 1\n",
    "\n"
   ]
  },
  {
   "cell_type": "code",
   "execution_count": null,
   "metadata": {},
   "outputs": [],
   "source": []
  },
  {
   "cell_type": "markdown",
   "metadata": {},
   "source": [
    "### Antwort Teilaufgabe 2"
   ]
  },
  {
   "cell_type": "code",
   "execution_count": null,
   "metadata": {},
   "outputs": [],
   "source": []
  },
  {
   "cell_type": "markdown",
   "metadata": {},
   "source": [
    "### Antwort Teilaufgabe 3"
   ]
  },
  {
   "cell_type": "code",
   "execution_count": null,
   "metadata": {},
   "outputs": [],
   "source": []
  },
  {
   "cell_type": "markdown",
   "metadata": {},
   "source": [
    "### Antwort Teilaufgabe 4"
   ]
  },
  {
   "cell_type": "code",
   "execution_count": null,
   "metadata": {},
   "outputs": [],
   "source": []
  }
 ],
 "metadata": {
  "kernelspec": {
   "display_name": "Python 3",
   "language": "python",
   "name": "python3"
  },
  "language_info": {
   "codemirror_mode": {
    "name": "ipython",
    "version": 3
   },
   "file_extension": ".py",
   "mimetype": "text/x-python",
   "name": "python",
   "nbconvert_exporter": "python",
   "pygments_lexer": "ipython3",
   "version": "3.6.4"
  }
 },
 "nbformat": 4,
 "nbformat_minor": 2
}
